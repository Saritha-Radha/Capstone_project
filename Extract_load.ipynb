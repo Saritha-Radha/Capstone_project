{
 "cells": [
  {
   "cell_type": "code",
   "execution_count": 1,
   "metadata": {},
   "outputs": [],
   "source": [
    "import pandas as pd\n",
    "from pyspark.sql import SparkSession\n",
    "from pyspark.sql import functions as func\n",
    "from pyspark.sql.types import StructType, StructField, IntegerType, FloatType,VarcharType,TimestampType,StringType"
   ]
  },
  {
   "cell_type": "code",
   "execution_count": 2,
   "metadata": {},
   "outputs": [],
   "source": [
    "spark = SparkSession.builder.appName(\"CreditCardSystemApp\").master(\"local[*]\").getOrCreate()\n"
   ]
  },
  {
   "cell_type": "code",
   "execution_count": 3,
   "metadata": {},
   "outputs": [
    {
     "name": "stdout",
     "output_type": "stream",
     "text": [
      "root\n",
      " |-- APT_NO: string (nullable = true)\n",
      " |-- CREDIT_CARD_NO: string (nullable = true)\n",
      " |-- CUST_CITY: string (nullable = true)\n",
      " |-- CUST_COUNTRY: string (nullable = true)\n",
      " |-- CUST_EMAIL: string (nullable = true)\n",
      " |-- CUST_PHONE: long (nullable = true)\n",
      " |-- CUST_STATE: string (nullable = true)\n",
      " |-- CUST_ZIP: string (nullable = true)\n",
      " |-- FIRST_NAME: string (nullable = true)\n",
      " |-- LAST_NAME: string (nullable = true)\n",
      " |-- LAST_UPDATED: string (nullable = true)\n",
      " |-- MIDDLE_NAME: string (nullable = true)\n",
      " |-- SSN: long (nullable = true)\n",
      " |-- STREET_NAME: string (nullable = true)\n",
      "\n",
      "+------+----------------+------------+-------------+-------------------+----------+----------+--------+----------+---------+--------------------+-----------+---------+-----------------+\n",
      "|APT_NO|  CREDIT_CARD_NO|   CUST_CITY| CUST_COUNTRY|         CUST_EMAIL|CUST_PHONE|CUST_STATE|CUST_ZIP|FIRST_NAME|LAST_NAME|        LAST_UPDATED|MIDDLE_NAME|      SSN|      STREET_NAME|\n",
      "+------+----------------+------------+-------------+-------------------+----------+----------+--------+----------+---------+--------------------+-----------+---------+-----------------+\n",
      "|   656|4210653310061055|     Natchez|United States|AHooper@example.com|   1237818|        MS|   39120|      Alec|   Hooper|2018-04-21T12:49:...|         Wm|123456100|Main Street North|\n",
      "|   829|4210653310102868|Wethersfield|United States|EHolman@example.com|   1238933|        CT|   06109|      Etta|   Holman|2018-04-21T12:49:...|    Brendan|123453023|    Redwood Drive|\n",
      "|   683|4210653310116272|     Huntley|United States|WDunham@example.com|   1243018|        IL|   60142|    Wilber|   Dunham|2018-04-21T12:49:...|   Ezequiel|123454487| 12th Street East|\n",
      "|   253|4210653310195948|   NewBerlin|United States| EHardy@example.com|   1243215|        WI|   53151|   Eugenio|    Hardy|2018-04-21T12:49:...|      Trina|123459758|Country Club Road|\n",
      "|   301|4210653310356919|      ElPaso|United States| WAyers@example.com|   1242074|        TX|   79930|   Wilfred|    Ayers|2018-04-21T12:49:...|        May|123454431|   Madison Street|\n",
      "+------+----------------+------------+-------------+-------------------+----------+----------+--------+----------+---------+--------------------+-----------+---------+-----------------+\n",
      "only showing top 5 rows\n",
      "\n"
     ]
    }
   ],
   "source": [
    "df_with_schema=spark.read.json(\"cdw_sapp_custmer.json\")\n",
    "df_with_schema.printSchema()\n",
    "df_with_schema.show(5)"
   ]
  },
  {
   "cell_type": "code",
   "execution_count": 4,
   "metadata": {},
   "outputs": [],
   "source": [
    "df_customer_withschema=df_with_schema.withColumn('CUST_ZIP',df_with_schema['CUST_ZIP'].cast('Int')).\\\n",
    "    withColumn('SSN',df_with_schema['SSN'].cast('Int'))\\\n",
    "    .withColumn('FIRST_NAME',func.initcap(df_with_schema['FIRST_NAME']))\\\n",
    "        .withColumn('MIDDLE_NAME',func.lower(df_with_schema['MIDDLE_NAME']))\\\n",
    "            .withColumn('LAST_NAME',func.initcap(df_with_schema['LAST_NAME']))\\\n",
    "             .withColumn('LAST_UPDATED',df_with_schema['LAST_UPDATED'].cast('timestamp'))\\\n",
    "             .withColumn('FULL_STREET_ADDRESS',func.concat(df_with_schema['APT_NO'],func.lit(','),df_with_schema['STREET_NAME'])).drop('APT_NO').drop('STREET_NAME')\n",
    "             \n",
    "             "
   ]
  },
  {
   "cell_type": "code",
   "execution_count": 5,
   "metadata": {},
   "outputs": [
    {
     "name": "stdout",
     "output_type": "stream",
     "text": [
      "root\n",
      " |-- CREDIT_CARD_NO: string (nullable = true)\n",
      " |-- CUST_CITY: string (nullable = true)\n",
      " |-- CUST_COUNTRY: string (nullable = true)\n",
      " |-- CUST_EMAIL: string (nullable = true)\n",
      " |-- CUST_PHONE: long (nullable = true)\n",
      " |-- CUST_STATE: string (nullable = true)\n",
      " |-- CUST_ZIP: integer (nullable = true)\n",
      " |-- FIRST_NAME: string (nullable = true)\n",
      " |-- LAST_NAME: string (nullable = true)\n",
      " |-- LAST_UPDATED: timestamp (nullable = true)\n",
      " |-- MIDDLE_NAME: string (nullable = true)\n",
      " |-- SSN: integer (nullable = true)\n",
      " |-- FULL_STREET_ADDRESS: string (nullable = true)\n",
      "\n"
     ]
    }
   ],
   "source": [
    "df_customer_withschema.printSchema()"
   ]
  },
  {
   "cell_type": "code",
   "execution_count": 6,
   "metadata": {},
   "outputs": [
    {
     "name": "stdout",
     "output_type": "stream",
     "text": [
      "+----------------+------------+-------------+-------------------+----------+----------+--------+----------+---------+-------------------+-----------+---------+--------------------+\n",
      "|  CREDIT_CARD_NO|   CUST_CITY| CUST_COUNTRY|         CUST_EMAIL|CUST_PHONE|CUST_STATE|CUST_ZIP|FIRST_NAME|LAST_NAME|       LAST_UPDATED|MIDDLE_NAME|      SSN| FULL_STREET_ADDRESS|\n",
      "+----------------+------------+-------------+-------------------+----------+----------+--------+----------+---------+-------------------+-----------+---------+--------------------+\n",
      "|4210653310061055|     Natchez|United States|AHooper@example.com|   1237818|        MS|   39120|      Alec|   Hooper|2018-04-21 12:49:02|         wm|123456100|656,Main Street N...|\n",
      "|4210653310102868|Wethersfield|United States|EHolman@example.com|   1238933|        CT|    6109|      Etta|   Holman|2018-04-21 12:49:02|    brendan|123453023|   829,Redwood Drive|\n",
      "|4210653310116272|     Huntley|United States|WDunham@example.com|   1243018|        IL|   60142|    Wilber|   Dunham|2018-04-21 12:49:02|   ezequiel|123454487|683,12th Street East|\n",
      "+----------------+------------+-------------+-------------------+----------+----------+--------+----------+---------+-------------------+-----------+---------+--------------------+\n",
      "only showing top 3 rows\n",
      "\n"
     ]
    }
   ],
   "source": [
    "df_customer_withschema.show(3)"
   ]
  },
  {
   "cell_type": "code",
   "execution_count": 7,
   "metadata": {},
   "outputs": [
    {
     "data": {
      "text/plain": [
       "['CREDIT_CARD_NO',\n",
       " 'CUST_CITY',\n",
       " 'CUST_COUNTRY',\n",
       " 'CUST_EMAIL',\n",
       " 'CUST_PHONE',\n",
       " 'CUST_STATE',\n",
       " 'CUST_ZIP',\n",
       " 'FIRST_NAME',\n",
       " 'LAST_NAME',\n",
       " 'LAST_UPDATED',\n",
       " 'MIDDLE_NAME',\n",
       " 'SSN',\n",
       " 'FULL_STREET_ADDRESS']"
      ]
     },
     "execution_count": 7,
     "metadata": {},
     "output_type": "execute_result"
    }
   ],
   "source": [
    "df_customer_withschema.columns"
   ]
  },
  {
   "attachments": {},
   "cell_type": "markdown",
   "metadata": {},
   "source": [
    "#Branch "
   ]
  },
  {
   "cell_type": "code",
   "execution_count": 8,
   "metadata": {},
   "outputs": [
    {
     "name": "stdout",
     "output_type": "stream",
     "text": [
      "root\n",
      " |-- BRANCH_CITY: string (nullable = true)\n",
      " |-- BRANCH_CODE: long (nullable = true)\n",
      " |-- BRANCH_NAME: string (nullable = true)\n",
      " |-- BRANCH_PHONE: string (nullable = true)\n",
      " |-- BRANCH_STATE: string (nullable = true)\n",
      " |-- BRANCH_STREET: string (nullable = true)\n",
      " |-- BRANCH_ZIP: long (nullable = true)\n",
      " |-- LAST_UPDATED: string (nullable = true)\n",
      "\n",
      "+-----------------+-----------+------------+------------+------------+-----------------+----------+--------------------+\n",
      "|      BRANCH_CITY|BRANCH_CODE| BRANCH_NAME|BRANCH_PHONE|BRANCH_STATE|    BRANCH_STREET|BRANCH_ZIP|        LAST_UPDATED|\n",
      "+-----------------+-----------+------------+------------+------------+-----------------+----------+--------------------+\n",
      "|        Lakeville|          1|Example Bank|  1234565276|          MN|     Bridle Court|     55044|2018-04-18T16:51:...|\n",
      "|          Huntley|          2|Example Bank|  1234618993|          IL|Washington Street|     60142|2018-04-18T16:51:...|\n",
      "|SouthRichmondHill|          3|Example Bank|  1234985926|          NY|    Warren Street|     11419|2018-04-18T16:51:...|\n",
      "|       Middleburg|          4|Example Bank|  1234663064|          FL| Cleveland Street|     32068|2018-04-18T16:51:...|\n",
      "|    KingOfPrussia|          5|Example Bank|  1234849701|          PA|      14th Street|     19406|2018-04-18T16:51:...|\n",
      "+-----------------+-----------+------------+------------+------------+-----------------+----------+--------------------+\n",
      "only showing top 5 rows\n",
      "\n"
     ]
    }
   ],
   "source": [
    "df_branch=spark.read.json(\"cdw_sapp_branch.json\")\n",
    "df_branch.printSchema()\n",
    "df_branch.show(5)"
   ]
  },
  {
   "cell_type": "code",
   "execution_count": 9,
   "metadata": {},
   "outputs": [],
   "source": [
    "df_branch_withschema=df_branch.withColumn('BRANCH_ZIP',func.when(df_branch['BRANCH_ZIP'].isNull(),'99999').otherwise(df_branch['BRANCH_ZIP']).cast('int'))\\\n",
    "    .withColumn('LAST_UPDATED',df_branch['LAST_UPDATED'].cast('timestamp'))\\\n",
    "    .withColumn('BRANCH_PHONE',func.concat(func.lit(\"(\"),\\\n",
    "                                           func.substring(df_branch['BRANCH_PHONE'],1,3),\\\n",
    "                                            func.lit(\")\"),\\\n",
    "                                                func.substring(df_branch['BRANCH_PHONE'],4,3),\\\n",
    "                                                    func.lit(\"-\"),\\\n",
    "                                                        func.substring(df_branch['BRANCH_PHONE'],7,4)))\n",
    "   "
   ]
  },
  {
   "cell_type": "code",
   "execution_count": null,
   "metadata": {},
   "outputs": [],
   "source": []
  },
  {
   "cell_type": "code",
   "execution_count": 10,
   "metadata": {},
   "outputs": [
    {
     "data": {
      "text/plain": [
       "['BRANCH_CITY',\n",
       " 'BRANCH_CODE',\n",
       " 'BRANCH_NAME',\n",
       " 'BRANCH_PHONE',\n",
       " 'BRANCH_STATE',\n",
       " 'BRANCH_STREET',\n",
       " 'BRANCH_ZIP',\n",
       " 'LAST_UPDATED']"
      ]
     },
     "execution_count": 10,
     "metadata": {},
     "output_type": "execute_result"
    }
   ],
   "source": [
    "df_branch_withschema.columns"
   ]
  },
  {
   "cell_type": "code",
   "execution_count": 11,
   "metadata": {},
   "outputs": [
    {
     "name": "stdout",
     "output_type": "stream",
     "text": [
      "root\n",
      " |-- BRANCH_CITY: string (nullable = true)\n",
      " |-- BRANCH_CODE: long (nullable = true)\n",
      " |-- BRANCH_NAME: string (nullable = true)\n",
      " |-- BRANCH_PHONE: string (nullable = true)\n",
      " |-- BRANCH_STATE: string (nullable = true)\n",
      " |-- BRANCH_STREET: string (nullable = true)\n",
      " |-- BRANCH_ZIP: integer (nullable = true)\n",
      " |-- LAST_UPDATED: timestamp (nullable = true)\n",
      "\n"
     ]
    }
   ],
   "source": [
    "df_branch_withschema.printSchema()"
   ]
  },
  {
   "cell_type": "code",
   "execution_count": 12,
   "metadata": {},
   "outputs": [
    {
     "name": "stdout",
     "output_type": "stream",
     "text": [
      "+-----------------+-----------+------------+-------------+------------+-----------------+----------+-------------------+\n",
      "|      BRANCH_CITY|BRANCH_CODE| BRANCH_NAME| BRANCH_PHONE|BRANCH_STATE|    BRANCH_STREET|BRANCH_ZIP|       LAST_UPDATED|\n",
      "+-----------------+-----------+------------+-------------+------------+-----------------+----------+-------------------+\n",
      "|        Lakeville|          1|Example Bank|(123)456-5276|          MN|     Bridle Court|     55044|2018-04-18 16:51:47|\n",
      "|          Huntley|          2|Example Bank|(123)461-8993|          IL|Washington Street|     60142|2018-04-18 16:51:47|\n",
      "|SouthRichmondHill|          3|Example Bank|(123)498-5926|          NY|    Warren Street|     11419|2018-04-18 16:51:47|\n",
      "|       Middleburg|          4|Example Bank|(123)466-3064|          FL| Cleveland Street|     32068|2018-04-18 16:51:47|\n",
      "|    KingOfPrussia|          5|Example Bank|(123)484-9701|          PA|      14th Street|     19406|2018-04-18 16:51:47|\n",
      "+-----------------+-----------+------------+-------------+------------+-----------------+----------+-------------------+\n",
      "only showing top 5 rows\n",
      "\n"
     ]
    }
   ],
   "source": [
    "df_branch_withschema.show(5)"
   ]
  },
  {
   "cell_type": "code",
   "execution_count": 13,
   "metadata": {},
   "outputs": [
    {
     "name": "stdout",
     "output_type": "stream",
     "text": [
      "+----------+\n",
      "|BRANCH_ZIP|\n",
      "+----------+\n",
      "|     55044|\n",
      "|     60142|\n",
      "|     11419|\n",
      "|     32068|\n",
      "|     19406|\n",
      "|      7501|\n",
      "|     14534|\n",
      "|      6109|\n",
      "|     44070|\n",
      "|      8844|\n",
      "|     48071|\n",
      "|     32765|\n",
      "|     17050|\n",
      "|     11803|\n",
      "|     42001|\n",
      "|     19438|\n",
      "|     20901|\n",
      "|     55337|\n",
      "|     98444|\n",
      "|     17013|\n",
      "+----------+\n",
      "only showing top 20 rows\n",
      "\n"
     ]
    }
   ],
   "source": [
    "df_branch.select('BRANCH_ZIP').show()"
   ]
  },
  {
   "cell_type": "code",
   "execution_count": 14,
   "metadata": {},
   "outputs": [
    {
     "name": "stdout",
     "output_type": "stream",
     "text": [
      "+-----------+-----------+-----------+------------+------------+-------------+----------+------------+\n",
      "|BRANCH_CITY|BRANCH_CODE|BRANCH_NAME|BRANCH_PHONE|BRANCH_STATE|BRANCH_STREET|BRANCH_ZIP|LAST_UPDATED|\n",
      "+-----------+-----------+-----------+------------+------------+-------------+----------+------------+\n",
      "+-----------+-----------+-----------+------------+------------+-------------+----------+------------+\n",
      "\n"
     ]
    }
   ],
   "source": [
    "df_branch.filter('BRANCH_ZIP is NULL').show()"
   ]
  },
  {
   "cell_type": "code",
   "execution_count": 15,
   "metadata": {},
   "outputs": [
    {
     "name": "stdout",
     "output_type": "stream",
     "text": [
      "+----------+\n",
      "|BRANCH_ZIP|\n",
      "+----------+\n",
      "|     48047|\n",
      "|     17201|\n",
      "|     29576|\n",
      "|     98908|\n",
      "|     48867|\n",
      "|     11419|\n",
      "|     48178|\n",
      "|     30101|\n",
      "|     91740|\n",
      "|     50010|\n",
      "|      7111|\n",
      "|     17013|\n",
      "|     19438|\n",
      "|     53045|\n",
      "|     54601|\n",
      "|     11510|\n",
      "|     32068|\n",
      "|      7740|\n",
      "|     11756|\n",
      "|     55337|\n",
      "|     23112|\n",
      "|     17325|\n",
      "|     32765|\n",
      "|     11530|\n",
      "|     46530|\n",
      "|     28173|\n",
      "|     11001|\n",
      "|     55044|\n",
      "|     14534|\n",
      "|     44512|\n",
      "|     43512|\n",
      "|     11791|\n",
      "|     30741|\n",
      "|     33442|\n",
      "|     19380|\n",
      "|     33414|\n",
      "|     34990|\n",
      "|     33594|\n",
      "|      6511|\n",
      "|     34711|\n",
      "|     77904|\n",
      "|     36330|\n",
      "|     90278|\n",
      "|     19406|\n",
      "|     52804|\n",
      "|     32708|\n",
      "|     38655|\n",
      "|     60091|\n",
      "|     27284|\n",
      "|     29680|\n",
      "|     53066|\n",
      "|     48239|\n",
      "|     49418|\n",
      "|     44663|\n",
      "|     55311|\n",
      "|     60103|\n",
      "|     47274|\n",
      "|     44070|\n",
      "|     52722|\n",
      "|     12601|\n",
      "|     11803|\n",
      "|     29550|\n",
      "|     44805|\n",
      "|     20901|\n",
      "|     75088|\n",
      "|      7866|\n",
      "|     60148|\n",
      "|     27103|\n",
      "|     44224|\n",
      "|     17543|\n",
      "|     30052|\n",
      "|     39759|\n",
      "|     53151|\n",
      "|     95993|\n",
      "|     48124|\n",
      "|     79930|\n",
      "|     60089|\n",
      "|     15317|\n",
      "|      2155|\n",
      "|     20814|\n",
      "|     94580|\n",
      "|     30236|\n",
      "|     91010|\n",
      "|     60060|\n",
      "|      8844|\n",
      "|     23223|\n",
      "|     17050|\n",
      "|     30117|\n",
      "|     51106|\n",
      "|     48071|\n",
      "|     59601|\n",
      "|     27834|\n",
      "|     21222|\n",
      "|     17331|\n",
      "|     15101|\n",
      "|     42001|\n",
      "|      6109|\n",
      "|      7501|\n",
      "|     45601|\n",
      "|      2169|\n",
      "|     60142|\n",
      "|     32703|\n",
      "|     30012|\n",
      "|     10954|\n",
      "|     77566|\n",
      "|     41051|\n",
      "|     33904|\n",
      "|     98444|\n",
      "|     21206|\n",
      "|     20772|\n",
      "|     39120|\n",
      "|     48430|\n",
      "|     93035|\n",
      "|     71730|\n",
      "|     77016|\n",
      "+----------+\n",
      "\n"
     ]
    }
   ],
   "source": [
    "df_branch.select('BRANCH_ZIP').distinct().show(150)"
   ]
  },
  {
   "attachments": {},
   "cell_type": "markdown",
   "metadata": {},
   "source": [
    "Creditcard"
   ]
  },
  {
   "cell_type": "code",
   "execution_count": 16,
   "metadata": {},
   "outputs": [
    {
     "name": "stdout",
     "output_type": "stream",
     "text": [
      "root\n",
      " |-- BRANCH_CODE: long (nullable = true)\n",
      " |-- CREDIT_CARD_NO: string (nullable = true)\n",
      " |-- CUST_SSN: long (nullable = true)\n",
      " |-- DAY: long (nullable = true)\n",
      " |-- MONTH: long (nullable = true)\n",
      " |-- TRANSACTION_ID: long (nullable = true)\n",
      " |-- TRANSACTION_TYPE: string (nullable = true)\n",
      " |-- TRANSACTION_VALUE: double (nullable = true)\n",
      " |-- YEAR: long (nullable = true)\n",
      "\n",
      "+-----------+----------------+---------+---+-----+--------------+----------------+-----------------+----+\n",
      "|BRANCH_CODE|  CREDIT_CARD_NO| CUST_SSN|DAY|MONTH|TRANSACTION_ID|TRANSACTION_TYPE|TRANSACTION_VALUE|YEAR|\n",
      "+-----------+----------------+---------+---+-----+--------------+----------------+-----------------+----+\n",
      "|        114|4210653349028689|123459988| 14|    2|             1|       Education|             78.9|2018|\n",
      "|         35|4210653349028689|123459988| 20|    3|             2|   Entertainment|            14.24|2018|\n",
      "|        160|4210653349028689|123459988|  8|    7|             3|         Grocery|             56.7|2018|\n",
      "|        114|4210653349028689|123459988| 19|    4|             4|   Entertainment|            59.73|2018|\n",
      "|         93|4210653349028689|123459988| 10|   10|             5|             Gas|             3.59|2018|\n",
      "+-----------+----------------+---------+---+-----+--------------+----------------+-----------------+----+\n",
      "only showing top 5 rows\n",
      "\n"
     ]
    }
   ],
   "source": [
    "df_creditcard=spark.read.json(\"cdw_sapp_credit.json\")\n",
    "df_creditcard.printSchema()\n",
    "df_creditcard.show(5)"
   ]
  },
  {
   "cell_type": "code",
   "execution_count": 17,
   "metadata": {},
   "outputs": [],
   "source": [
    "df_creditcard_withschema=df_creditcard.withColumn('BRANCH_CODE',df_creditcard['BRANCH_CODE'].cast('int'))\\\n",
    ".withColumn('CUST_SSN',df_creditcard['CUST_SSN'].cast('int'))\\\n",
    ".withColumn('TIMEID',func.concat(df_creditcard['YEAR'],df_creditcard['MONTH'],df_creditcard['DAY']))\\\n",
    "                            .drop(df_creditcard['YEAR'])\\\n",
    "                                .drop(df_creditcard['MONTH'])\\\n",
    "                                    .drop(df_creditcard['DAY'])\n",
    "                       \n"
   ]
  },
  {
   "cell_type": "code",
   "execution_count": 18,
   "metadata": {},
   "outputs": [
    {
     "name": "stdout",
     "output_type": "stream",
     "text": [
      "+-----------+----------------+---------+--------------+----------------+-----------------+--------+\n",
      "|BRANCH_CODE|  CREDIT_CARD_NO| CUST_SSN|TRANSACTION_ID|TRANSACTION_TYPE|TRANSACTION_VALUE|  TIMEID|\n",
      "+-----------+----------------+---------+--------------+----------------+-----------------+--------+\n",
      "|        114|4210653349028689|123459988|             1|       Education|             78.9| 2018214|\n",
      "|         35|4210653349028689|123459988|             2|   Entertainment|            14.24| 2018320|\n",
      "|        160|4210653349028689|123459988|             3|         Grocery|             56.7|  201878|\n",
      "|        114|4210653349028689|123459988|             4|   Entertainment|            59.73| 2018419|\n",
      "|         93|4210653349028689|123459988|             5|             Gas|             3.59|20181010|\n",
      "+-----------+----------------+---------+--------------+----------------+-----------------+--------+\n",
      "only showing top 5 rows\n",
      "\n"
     ]
    }
   ],
   "source": [
    "df_creditcard_withschema.show(5)"
   ]
  },
  {
   "cell_type": "code",
   "execution_count": 19,
   "metadata": {},
   "outputs": [
    {
     "name": "stdout",
     "output_type": "stream",
     "text": [
      "+----------------+------------+-------------+--------------------+----------+----------+--------+----------+---------+-------------------+-----------+---------+--------------------+\n",
      "|  CREDIT_CARD_NO|   CUST_CITY| CUST_COUNTRY|          CUST_EMAIL|CUST_PHONE|CUST_STATE|CUST_ZIP|FIRST_NAME|LAST_NAME|       LAST_UPDATED|MIDDLE_NAME|      SSN| FULL_STREET_ADDRESS|\n",
      "+----------------+------------+-------------+--------------------+----------+----------+--------+----------+---------+-------------------+-----------+---------+--------------------+\n",
      "|4210653310061055|     Natchez|United States| AHooper@example.com|   1237818|        MS|   39120|      Alec|   Hooper|2018-04-21 12:49:02|         wm|123456100|656,Main Street N...|\n",
      "|4210653310102868|Wethersfield|United States| EHolman@example.com|   1238933|        CT|    6109|      Etta|   Holman|2018-04-21 12:49:02|    brendan|123453023|   829,Redwood Drive|\n",
      "|4210653310116272|     Huntley|United States| WDunham@example.com|   1243018|        IL|   60142|    Wilber|   Dunham|2018-04-21 12:49:02|   ezequiel|123454487|683,12th Street East|\n",
      "|4210653310195948|   NewBerlin|United States|  EHardy@example.com|   1243215|        WI|   53151|   Eugenio|    Hardy|2018-04-21 12:49:02|      trina|123459758|253,Country Club ...|\n",
      "|4210653310356919|      ElPaso|United States|  WAyers@example.com|   1242074|        TX|   79930|   Wilfred|    Ayers|2018-04-21 12:49:02|        may|123454431|  301,Madison Street|\n",
      "|4210653310395982|NorthOlmsted|United States|BWoodard@example.com|   1242570|        OH|   44070|      Beau|  Woodard|2018-04-21 12:49:02|    ambrose|123454202|    3,Colonial Drive|\n",
      "|4210653310400536|      Vienna|United States|   SKemp@example.com|   1239685|        VA|   22180|    Sheila|     Kemp|2018-04-21 12:49:02|      larry|123451799|   84,Belmont Avenue|\n",
      "|4210653310459911|      Duarte|United States| WHurley@example.com|   1238213|        CA|   91010|     Wendy|   Hurley|2018-04-21 12:49:02|        ora|123453875|    728,Oxford Court|\n",
      "|4210653310773972|      Owosso|United States|AGilmore@example.com|   1240689|        MI|   48867|      Alec|  Gilmore|2018-04-21 12:49:02|     tracie|123457511|    81,Forest Street|\n",
      "|4210653310794854|        Zion|United States|    BLau@example.com|   1235222|        IL|   60099|    Barbra|      Lau|2018-04-21 12:49:02|    mitchel|123457464|    561,Court Street|\n",
      "|4210653310817373|  Youngstown|United States|EThomson@example.com|   1241363|        OH|   44512|   Edmundo|  Thomson|2018-04-21 12:49:02|      denny|123457639|   622,Cypress Court|\n",
      "|4210653310844617| Summerville|United States| ETruong@example.com|   1236228|        SC|   29483|      Elsa|   Truong|2018-04-21 12:49:02|   isabelle|123453242| 924,8th Street West|\n",
      "|4210653311015303|      ElPaso|United States|HMckinney@example...|   1238165|        TX|   79930|     Homer| Mckinney|2018-04-21 12:49:02|      henry|123454339|     611,East Avenue|\n",
      "|4210653311215039|      Fenton|United States|   RKidd@example.com|   1234730|        MI|   48430|      Rita|     Kidd|2018-04-21 12:49:02|     rickey|123454537|        680,Route 44|\n",
      "|4210653311229354|  Grandville|United States|ABallard@example.com|   1242113|        MI|   49418|    Amalia|  Ballard|2018-04-21 12:49:02|  heriberto|123452373|    71,Warren Street|\n",
      "|4210653311652836|    YubaCity|United States| PThomas@example.com|   1239888|        CA|   95993|     Patty|   Thomas|2018-04-21 12:49:02|   angelita|123455343|    195,Jones Street|\n",
      "|4210653311707126|   CapeCoral|United States| JMorrow@example.com|   1240158|        FL|   33904|  Josefina|   Morrow|2018-04-21 12:49:02|   dorothea|123451533|      500,New Street|\n",
      "|4210653311730764|  Brookfield|United States|NAndrews@example.com|   1241408|        WI|   53045|    Nelson|  Andrews|2018-04-21 12:49:02|  jefferson|123459278| 989,Division Street|\n",
      "|4210653311898082|    Richmond|United States|MSchneider@exampl...|   1238390|        VA|   23223|    Miquel|Schneider|2018-04-21 12:49:02|     maximo|123456915|    810,Maple Street|\n",
      "|4210653312021765| WestChester|United States|PTidwell@example.com|   1235067|        PA|   19380|    Parker|  Tidwell|2018-04-21 12:49:02|    arnulfo|123453807|      649,Eagle Road|\n",
      "+----------------+------------+-------------+--------------------+----------+----------+--------+----------+---------+-------------------+-----------+---------+--------------------+\n",
      "only showing top 20 rows\n",
      "\n"
     ]
    }
   ],
   "source": [
    "df_customer_withschema.show()"
   ]
  },
  {
   "cell_type": "code",
   "execution_count": 20,
   "metadata": {},
   "outputs": [
    {
     "name": "stdout",
     "output_type": "stream",
     "text": [
      "+-----------------+-----------+------------+-------------+------------+-------------------+----------+-------------------+\n",
      "|      BRANCH_CITY|BRANCH_CODE| BRANCH_NAME| BRANCH_PHONE|BRANCH_STATE|      BRANCH_STREET|BRANCH_ZIP|       LAST_UPDATED|\n",
      "+-----------------+-----------+------------+-------------+------------+-------------------+----------+-------------------+\n",
      "|        Lakeville|          1|Example Bank|(123)456-5276|          MN|       Bridle Court|     55044|2018-04-18 16:51:47|\n",
      "|          Huntley|          2|Example Bank|(123)461-8993|          IL|  Washington Street|     60142|2018-04-18 16:51:47|\n",
      "|SouthRichmondHill|          3|Example Bank|(123)498-5926|          NY|      Warren Street|     11419|2018-04-18 16:51:47|\n",
      "|       Middleburg|          4|Example Bank|(123)466-3064|          FL|   Cleveland Street|     32068|2018-04-18 16:51:47|\n",
      "|    KingOfPrussia|          5|Example Bank|(123)484-9701|          PA|        14th Street|     19406|2018-04-18 16:51:47|\n",
      "|         Paterson|          7|Example Bank|(123)414-4890|          NJ|   Jefferson Street|      7501|2018-04-18 16:51:47|\n",
      "|        Pittsford|          8|Example Bank|(123)467-8272|          NY|           B Street|     14534|2018-04-18 16:51:47|\n",
      "|     Wethersfield|          9|Example Bank|(123)467-5219|          CT|    Jefferson Court|      6109|2018-04-18 16:51:47|\n",
      "|     NorthOlmsted|         10|Example Bank|(123)414-5047|          OH|     Cambridge Road|     44070|2018-04-18 16:51:47|\n",
      "|     Hillsborough|         11|Example Bank|(123)436-6354|          NJ|    3rd Street West|      8844|2018-04-18 16:51:47|\n",
      "|   MadisonHeights|         12|Example Bank|(123)486-7175|          MI|          Mill Road|     48071|2018-04-18 16:51:47|\n",
      "|           Oviedo|         14|Example Bank|(123)493-8460|          FL|  Washington Street|     32765|2018-04-18 16:51:47|\n",
      "|    Mechanicsburg|         15|Example Bank|(123)446-2043|          PA|    Chestnut Street|     17050|2018-04-18 16:51:47|\n",
      "|        Plainview|         16|Example Bank|(123)485-7525|          NY|       Monroe Drive|     11803|2018-04-18 16:51:47|\n",
      "|          Paducah|         17|Example Bank|(123)454-6360|          KY|    Railroad Street|     42001|2018-04-18 16:51:47|\n",
      "|     Harleysville|         18|Example Bank|(123)482-4455|          PA|Church Street South|     19438|2018-04-18 16:51:47|\n",
      "|     SilverSpring|         19|Example Bank|(123)448-4380|          MD|        King Street|     20901|2018-04-18 16:51:47|\n",
      "|       Burnsville|         20|Example Bank|(123)484-0138|          MN|   Canterbury Drive|     55337|2018-04-18 16:51:47|\n",
      "|           Tacoma|         21|Example Bank|(123)436-2433|          WA|         2nd Avenue|     98444|2018-04-18 16:51:47|\n",
      "|         Carlisle|         22|Example Bank|(123)492-2492|          PA| Front Street South|     17013|2018-04-18 16:51:47|\n",
      "+-----------------+-----------+------------+-------------+------------+-------------------+----------+-------------------+\n",
      "only showing top 20 rows\n",
      "\n"
     ]
    }
   ],
   "source": [
    "df_branch_withschema.show()"
   ]
  },
  {
   "cell_type": "code",
   "execution_count": 21,
   "metadata": {},
   "outputs": [
    {
     "name": "stdout",
     "output_type": "stream",
     "text": [
      "+-----------+----------------+---------+--------------+----------------+-----------------+--------+\n",
      "|BRANCH_CODE|  CREDIT_CARD_NO| CUST_SSN|TRANSACTION_ID|TRANSACTION_TYPE|TRANSACTION_VALUE|  TIMEID|\n",
      "+-----------+----------------+---------+--------------+----------------+-----------------+--------+\n",
      "|        114|4210653349028689|123459988|             1|       Education|             78.9| 2018214|\n",
      "|         35|4210653349028689|123459988|             2|   Entertainment|            14.24| 2018320|\n",
      "|        160|4210653349028689|123459988|             3|         Grocery|             56.7|  201878|\n",
      "|        114|4210653349028689|123459988|             4|   Entertainment|            59.73| 2018419|\n",
      "|         93|4210653349028689|123459988|             5|             Gas|             3.59|20181010|\n",
      "|        164|4210653349028689|123459988|             6|       Education|             6.89| 2018528|\n",
      "|        119|4210653349028689|123459988|             7|   Entertainment|            43.39| 2018519|\n",
      "|         23|4210653349028689|123459988|             8|             Gas|            95.39|  201888|\n",
      "|        166|4210653349028689|123459988|             9|   Entertainment|            93.26| 2018318|\n",
      "|         83|4210653349028689|123459988|            10|           Bills|           100.38|  201893|\n",
      "|         52|4210653349028689|123459988|            11|             Gas|            98.75| 2018821|\n",
      "|         17|4210653349028689|123459988|            12|             Gas|            42.71|20181224|\n",
      "|         80|4210653349028689|123459988|            13|         Grocery|            40.24|  201843|\n",
      "|         50|4210653349028689|123459988|            14|           Bills|            17.81| 2018415|\n",
      "|        123|4210653349028689|123459988|            15|           Bills|             29.0| 2018517|\n",
      "|          9|4210653349028689|123459988|            16|            Test|            70.63|  201876|\n",
      "|          3|4210653349028689|123459988|            17|            Test|            27.04| 2018928|\n",
      "|        135|4210653349028689|123459988|            18|   Entertainment|            88.75|  201874|\n",
      "|        103|4210653349028689|123459988|            19|            Test|            77.02| 2018424|\n",
      "|         78|4210653349028689|123459988|            20|           Bills|            34.34| 2018108|\n",
      "+-----------+----------------+---------+--------------+----------------+-----------------+--------+\n",
      "only showing top 20 rows\n",
      "\n"
     ]
    }
   ],
   "source": [
    "df_creditcard_withschema.show()"
   ]
  },
  {
   "cell_type": "code",
   "execution_count": 22,
   "metadata": {},
   "outputs": [],
   "source": [
    "df_customer_withschema.write.format(\"jdbc\") \\\n",
    "  .mode(\"append\") \\\n",
    "  .option(\"url\", \"jdbc:mysql://localhost:3306/creditcard_capstone\") \\\n",
    "  .option(\"dbtable\", \"creditcard_capstone.CDW_SAPP_CUSTOMER\") \\\n",
    "  .option(\"user\", \"root\") \\\n",
    "  .option(\"password\", \"password\") \\\n",
    "  .save()\n"
   ]
  },
  {
   "cell_type": "code",
   "execution_count": null,
   "metadata": {},
   "outputs": [],
   "source": []
  }
 ],
 "metadata": {
  "kernelspec": {
   "display_name": "Python 3",
   "language": "python",
   "name": "python3"
  },
  "language_info": {
   "codemirror_mode": {
    "name": "ipython",
    "version": 3
   },
   "file_extension": ".py",
   "mimetype": "text/x-python",
   "name": "python",
   "nbconvert_exporter": "python",
   "pygments_lexer": "ipython3",
   "version": "3.10.10"
  },
  "orig_nbformat": 4
 },
 "nbformat": 4,
 "nbformat_minor": 2
}
