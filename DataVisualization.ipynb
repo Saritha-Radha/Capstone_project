{
 "cells": [
  {
   "attachments": {},
   "cell_type": "markdown",
   "metadata": {},
   "source": [
    "3. Functional Requirements - Data Analysis and Visualization\n"
   ]
  },
  {
   "attachments": {},
   "cell_type": "markdown",
   "metadata": {},
   "source": [
    "Importing all the required Libraries"
   ]
  },
  {
   "cell_type": "code",
   "execution_count": 2,
   "metadata": {},
   "outputs": [],
   "source": [
    "import sys\n",
    "from datetime import date\n",
    "import pandas as pd\n",
    "import matplotlib.pyplot as plt\n",
    "from pyspark.sql import SparkSession\n",
    "from pyspark.sql import functions as func\n",
    "from pyspark.sql.types import StructType, StructField, IntegerType, FloatType,VarcharType,TimestampType,StringType"
   ]
  },
  {
   "attachments": {},
   "cell_type": "markdown",
   "metadata": {},
   "source": [
    "Starting the spark session"
   ]
  },
  {
   "cell_type": "code",
   "execution_count": 3,
   "metadata": {},
   "outputs": [],
   "source": [
    "spark = SparkSession.builder.appName(\"CreditCardSystemApp\").master(\"local[*]\").getOrCreate()"
   ]
  },
  {
   "attachments": {},
   "cell_type": "markdown",
   "metadata": {},
   "source": [
    "Functional\n",
    "Requirements 3.1\n",
    "Find and plot which transaction type has a high rate of\n",
    "transactions."
   ]
  },
  {
   "attachments": {},
   "cell_type": "markdown",
   "metadata": {},
   "source": [
    "Reading the data from database accrding to the query \\\n",
    "Counting all the transaction by TRANSACTION_TYPE"
   ]
  },
  {
   "cell_type": "code",
   "execution_count": 29,
   "metadata": {},
   "outputs": [
    {
     "name": "stdout",
     "output_type": "stream",
     "text": [
      "+----------------+-----+\n",
      "|TRANSACTION_TYPE|Count|\n",
      "+----------------+-----+\n",
      "|         Grocery| 6549|\n",
      "|           Bills| 6861|\n",
      "|       Education| 6638|\n",
      "|      Healthcare| 6723|\n",
      "|   Entertainment| 6635|\n",
      "|             Gas| 6605|\n",
      "|            Test| 6683|\n",
      "+----------------+-----+\n",
      "\n"
     ]
    }
   ],
   "source": [
    "query='(select TRANSACTION_TYPE,count(*) as Count from cdw_sapp_credit_card  group by TRANSACTION_TYPE) as transaction_count'\n",
    "data_table_transaction=spark.read.format(\"jdbc\") \\\n",
    "  .option(\"url\", \"jdbc:mysql://localhost:3306/creditcard_capstone\") \\\n",
    "  .option(\"dbtable\",query ) \\\n",
    "  .option(\"user\", \"root\") \\\n",
    "  .option(\"password\", \"password\")\\\n",
    "   .load()\n",
    "data_table_transaction.show()"
   ]
  },
  {
   "attachments": {},
   "cell_type": "markdown",
   "metadata": {},
   "source": [
    "Converting spark dataframe to pandas dataframe for visualisation"
   ]
  },
  {
   "cell_type": "code",
   "execution_count": 30,
   "metadata": {},
   "outputs": [
    {
     "data": {
      "text/html": [
       "<div>\n",
       "<style scoped>\n",
       "    .dataframe tbody tr th:only-of-type {\n",
       "        vertical-align: middle;\n",
       "    }\n",
       "\n",
       "    .dataframe tbody tr th {\n",
       "        vertical-align: top;\n",
       "    }\n",
       "\n",
       "    .dataframe thead th {\n",
       "        text-align: right;\n",
       "    }\n",
       "</style>\n",
       "<table border=\"1\" class=\"dataframe\">\n",
       "  <thead>\n",
       "    <tr style=\"text-align: right;\">\n",
       "      <th></th>\n",
       "      <th>TRANSACTION_TYPE</th>\n",
       "      <th>Count</th>\n",
       "    </tr>\n",
       "  </thead>\n",
       "  <tbody>\n",
       "    <tr>\n",
       "      <th>0</th>\n",
       "      <td>Grocery</td>\n",
       "      <td>6549</td>\n",
       "    </tr>\n",
       "    <tr>\n",
       "      <th>1</th>\n",
       "      <td>Bills</td>\n",
       "      <td>6861</td>\n",
       "    </tr>\n",
       "    <tr>\n",
       "      <th>2</th>\n",
       "      <td>Education</td>\n",
       "      <td>6638</td>\n",
       "    </tr>\n",
       "    <tr>\n",
       "      <th>3</th>\n",
       "      <td>Healthcare</td>\n",
       "      <td>6723</td>\n",
       "    </tr>\n",
       "    <tr>\n",
       "      <th>4</th>\n",
       "      <td>Entertainment</td>\n",
       "      <td>6635</td>\n",
       "    </tr>\n",
       "    <tr>\n",
       "      <th>5</th>\n",
       "      <td>Gas</td>\n",
       "      <td>6605</td>\n",
       "    </tr>\n",
       "    <tr>\n",
       "      <th>6</th>\n",
       "      <td>Test</td>\n",
       "      <td>6683</td>\n",
       "    </tr>\n",
       "  </tbody>\n",
       "</table>\n",
       "</div>"
      ],
      "text/plain": [
       "  TRANSACTION_TYPE  Count\n",
       "0          Grocery   6549\n",
       "1            Bills   6861\n",
       "2        Education   6638\n",
       "3       Healthcare   6723\n",
       "4    Entertainment   6635\n",
       "5              Gas   6605\n",
       "6             Test   6683"
      ]
     },
     "execution_count": 30,
     "metadata": {},
     "output_type": "execute_result"
    }
   ],
   "source": [
    "df_table_transaction_pd=data_table_transaction.toPandas()\n",
    "df_table_transaction_pd\n"
   ]
  },
  {
   "cell_type": "code",
   "execution_count": 28,
   "metadata": {},
   "outputs": [
    {
     "data": {
      "text/html": [
       "<div>\n",
       "<style scoped>\n",
       "    .dataframe tbody tr th:only-of-type {\n",
       "        vertical-align: middle;\n",
       "    }\n",
       "\n",
       "    .dataframe tbody tr th {\n",
       "        vertical-align: top;\n",
       "    }\n",
       "\n",
       "    .dataframe thead th {\n",
       "        text-align: right;\n",
       "    }\n",
       "</style>\n",
       "<table border=\"1\" class=\"dataframe\">\n",
       "  <thead>\n",
       "    <tr style=\"text-align: right;\">\n",
       "      <th></th>\n",
       "      <th>TRANSACTION_TYPE</th>\n",
       "      <th>Count</th>\n",
       "    </tr>\n",
       "  </thead>\n",
       "  <tbody>\n",
       "    <tr>\n",
       "      <th>0</th>\n",
       "      <td>Grocery</td>\n",
       "      <td>6549</td>\n",
       "    </tr>\n",
       "    <tr>\n",
       "      <th>1</th>\n",
       "      <td>Bills</td>\n",
       "      <td>6861</td>\n",
       "    </tr>\n",
       "    <tr>\n",
       "      <th>2</th>\n",
       "      <td>Education</td>\n",
       "      <td>6638</td>\n",
       "    </tr>\n",
       "    <tr>\n",
       "      <th>3</th>\n",
       "      <td>Healthcare</td>\n",
       "      <td>6723</td>\n",
       "    </tr>\n",
       "    <tr>\n",
       "      <th>4</th>\n",
       "      <td>Entertainment</td>\n",
       "      <td>6635</td>\n",
       "    </tr>\n",
       "    <tr>\n",
       "      <th>5</th>\n",
       "      <td>Gas</td>\n",
       "      <td>6605</td>\n",
       "    </tr>\n",
       "    <tr>\n",
       "      <th>6</th>\n",
       "      <td>Test</td>\n",
       "      <td>6683</td>\n",
       "    </tr>\n",
       "  </tbody>\n",
       "</table>\n",
       "</div>"
      ],
      "text/plain": [
       "  TRANSACTION_TYPE  Count\n",
       "0          Grocery   6549\n",
       "1            Bills   6861\n",
       "2        Education   6638\n",
       "3       Healthcare   6723\n",
       "4    Entertainment   6635\n",
       "5              Gas   6605\n",
       "6             Test   6683"
      ]
     },
     "execution_count": 28,
     "metadata": {},
     "output_type": "execute_result"
    }
   ],
   "source": [
    "df_table_transaction_pd"
   ]
  },
  {
   "cell_type": "code",
   "execution_count": 36,
   "metadata": {},
   "outputs": [],
   "source": [
    "df_table_transaction_pd=df_table_transaction_pd.sort_values('Count',ascending=False).reset_index()"
   ]
  },
  {
   "cell_type": "code",
   "execution_count": 37,
   "metadata": {},
   "outputs": [
    {
     "data": {
      "text/html": [
       "<div>\n",
       "<style scoped>\n",
       "    .dataframe tbody tr th:only-of-type {\n",
       "        vertical-align: middle;\n",
       "    }\n",
       "\n",
       "    .dataframe tbody tr th {\n",
       "        vertical-align: top;\n",
       "    }\n",
       "\n",
       "    .dataframe thead th {\n",
       "        text-align: right;\n",
       "    }\n",
       "</style>\n",
       "<table border=\"1\" class=\"dataframe\">\n",
       "  <thead>\n",
       "    <tr style=\"text-align: right;\">\n",
       "      <th></th>\n",
       "      <th>index</th>\n",
       "      <th>TRANSACTION_TYPE</th>\n",
       "      <th>Count</th>\n",
       "      <th>colours</th>\n",
       "    </tr>\n",
       "  </thead>\n",
       "  <tbody>\n",
       "    <tr>\n",
       "      <th>0</th>\n",
       "      <td>1</td>\n",
       "      <td>Bills</td>\n",
       "      <td>6861</td>\n",
       "      <td>#768493</td>\n",
       "    </tr>\n",
       "    <tr>\n",
       "      <th>1</th>\n",
       "      <td>3</td>\n",
       "      <td>Healthcare</td>\n",
       "      <td>6723</td>\n",
       "      <td>#768493</td>\n",
       "    </tr>\n",
       "    <tr>\n",
       "      <th>2</th>\n",
       "      <td>6</td>\n",
       "      <td>Test</td>\n",
       "      <td>6683</td>\n",
       "      <td>#768493</td>\n",
       "    </tr>\n",
       "    <tr>\n",
       "      <th>3</th>\n",
       "      <td>2</td>\n",
       "      <td>Education</td>\n",
       "      <td>6638</td>\n",
       "      <td>#768493</td>\n",
       "    </tr>\n",
       "    <tr>\n",
       "      <th>4</th>\n",
       "      <td>4</td>\n",
       "      <td>Entertainment</td>\n",
       "      <td>6635</td>\n",
       "      <td>#768493</td>\n",
       "    </tr>\n",
       "    <tr>\n",
       "      <th>5</th>\n",
       "      <td>5</td>\n",
       "      <td>Gas</td>\n",
       "      <td>6605</td>\n",
       "      <td>#768493</td>\n",
       "    </tr>\n",
       "    <tr>\n",
       "      <th>6</th>\n",
       "      <td>0</td>\n",
       "      <td>Grocery</td>\n",
       "      <td>6549</td>\n",
       "      <td>#d95f02</td>\n",
       "    </tr>\n",
       "  </tbody>\n",
       "</table>\n",
       "</div>"
      ],
      "text/plain": [
       "   index TRANSACTION_TYPE  Count  colours\n",
       "0      1            Bills   6861  #768493\n",
       "1      3       Healthcare   6723  #768493\n",
       "2      6             Test   6683  #768493\n",
       "3      2        Education   6638  #768493\n",
       "4      4    Entertainment   6635  #768493\n",
       "5      5              Gas   6605  #768493\n",
       "6      0          Grocery   6549  #d95f02"
      ]
     },
     "execution_count": 37,
     "metadata": {},
     "output_type": "execute_result"
    }
   ],
   "source": [
    "df_table_transaction_pd"
   ]
  },
  {
   "cell_type": "code",
   "execution_count": 39,
   "metadata": {},
   "outputs": [
    {
     "data": {
      "image/png": "[encoded data removed]",
      "text/plain": [
       "<Figure size 1000x600 with 1 Axes>"
      ]
     },
     "metadata": {},
     "output_type": "display_data"
    }
   ],
   "source": [
    "\n",
    "highlight_colour = '#d95f02'\n",
    "non_highlight_colour = '#768493'\n",
    "\n",
    "df_table_transaction_pd['colours'] = df_table_transaction_pd['Count'].apply(lambda x: highlight_colour if x == df_table_transaction_pd['Count'][0] else non_highlight_colour)\n",
    "ax=df_table_transaction_pd.plot.bar(x='TRANSACTION_TYPE',y='Count',color=df_table_transaction_pd['colours'],figsize=(10,6))\n",
    "plt.title(\"Transaction Types\")\n",
    "plt.xlabel(\"Trasaction Type\")\n",
    "plt.ylabel=(\"Transaction Count\")\n",
    "ax.bar_label(ax.containers[0],label_type='edge')\n",
    "ax.get_legend().remove()\n",
    "plt.show()"
   ]
  },
  {
   "attachments": {},
   "cell_type": "markdown",
   "metadata": {},
   "source": [
    "Functional\n",
    "Requirements 3.2\n",
    "Find and plot which state has a high number of customers."
   ]
  },
  {
   "attachments": {},
   "cell_type": "markdown",
   "metadata": {},
   "source": [
    "query to count statewise customers and reading from the database according to the query"
   ]
  },
  {
   "cell_type": "code",
   "execution_count": 12,
   "metadata": {},
   "outputs": [
    {
     "name": "stdout",
     "output_type": "stream",
     "text": [
      "+----------+-----+\n",
      "|CUST_STATE|Count|\n",
      "+----------+-----+\n",
      "|        NY|   96|\n",
      "|        GA|   73|\n",
      "|        PA|   72|\n",
      "|        FL|   64|\n",
      "|        IL|   58|\n",
      "|        NJ|   53|\n",
      "|        MD|   50|\n",
      "|        CA|   46|\n",
      "|        OH|   44|\n",
      "|        MI|   44|\n",
      "|        VA|   39|\n",
      "|        NC|   37|\n",
      "|        TX|   33|\n",
      "|        MA|   33|\n",
      "|        SC|   30|\n",
      "|        WI|   29|\n",
      "|        MN|   28|\n",
      "|        MS|   23|\n",
      "|        IA|   21|\n",
      "|        KY|   17|\n",
      "+----------+-----+\n",
      "only showing top 20 rows\n",
      "\n"
     ]
    }
   ],
   "source": [
    "query='(select CUST_STATE,count(*) as Count from cdw_sapp_customer  group by CUST_STATE ORDER BY 2 DESC) as CUSTOMERSTATE_count'\n",
    "data_table_customercount=spark.read.format(\"jdbc\") \\\n",
    "  .option(\"url\", \"jdbc:mysql://localhost:3306/creditcard_capstone\") \\\n",
    "  .option(\"dbtable\",query ) \\\n",
    "  .option(\"user\", \"root\") \\\n",
    "  .option(\"password\", \"password\")\\\n",
    "   .load()\n",
    "data_table_customercount.show()"
   ]
  },
  {
   "attachments": {},
   "cell_type": "markdown",
   "metadata": {},
   "source": [
    "Converting to pandas datafrane for visualisation"
   ]
  },
  {
   "cell_type": "code",
   "execution_count": 13,
   "metadata": {},
   "outputs": [
    {
     "data": {
      "text/html": [
       "<div>\n",
       "<style scoped>\n",
       "    .dataframe tbody tr th:only-of-type {\n",
       "        vertical-align: middle;\n",
       "    }\n",
       "\n",
       "    .dataframe tbody tr th {\n",
       "        vertical-align: top;\n",
       "    }\n",
       "\n",
       "    .dataframe thead th {\n",
       "        text-align: right;\n",
       "    }\n",
       "</style>\n",
       "<table border=\"1\" class=\"dataframe\">\n",
       "  <thead>\n",
       "    <tr style=\"text-align: right;\">\n",
       "      <th></th>\n",
       "      <th>CUST_STATE</th>\n",
       "      <th>Count</th>\n",
       "    </tr>\n",
       "  </thead>\n",
       "  <tbody>\n",
       "    <tr>\n",
       "      <th>0</th>\n",
       "      <td>NY</td>\n",
       "      <td>96</td>\n",
       "    </tr>\n",
       "    <tr>\n",
       "      <th>1</th>\n",
       "      <td>GA</td>\n",
       "      <td>73</td>\n",
       "    </tr>\n",
       "    <tr>\n",
       "      <th>2</th>\n",
       "      <td>PA</td>\n",
       "      <td>72</td>\n",
       "    </tr>\n",
       "    <tr>\n",
       "      <th>3</th>\n",
       "      <td>FL</td>\n",
       "      <td>64</td>\n",
       "    </tr>\n",
       "    <tr>\n",
       "      <th>4</th>\n",
       "      <td>IL</td>\n",
       "      <td>58</td>\n",
       "    </tr>\n",
       "    <tr>\n",
       "      <th>5</th>\n",
       "      <td>NJ</td>\n",
       "      <td>53</td>\n",
       "    </tr>\n",
       "    <tr>\n",
       "      <th>6</th>\n",
       "      <td>MD</td>\n",
       "      <td>50</td>\n",
       "    </tr>\n",
       "    <tr>\n",
       "      <th>7</th>\n",
       "      <td>CA</td>\n",
       "      <td>46</td>\n",
       "    </tr>\n",
       "    <tr>\n",
       "      <th>8</th>\n",
       "      <td>OH</td>\n",
       "      <td>44</td>\n",
       "    </tr>\n",
       "    <tr>\n",
       "      <th>9</th>\n",
       "      <td>MI</td>\n",
       "      <td>44</td>\n",
       "    </tr>\n",
       "    <tr>\n",
       "      <th>10</th>\n",
       "      <td>VA</td>\n",
       "      <td>39</td>\n",
       "    </tr>\n",
       "    <tr>\n",
       "      <th>11</th>\n",
       "      <td>NC</td>\n",
       "      <td>37</td>\n",
       "    </tr>\n",
       "    <tr>\n",
       "      <th>12</th>\n",
       "      <td>TX</td>\n",
       "      <td>33</td>\n",
       "    </tr>\n",
       "    <tr>\n",
       "      <th>13</th>\n",
       "      <td>MA</td>\n",
       "      <td>33</td>\n",
       "    </tr>\n",
       "    <tr>\n",
       "      <th>14</th>\n",
       "      <td>SC</td>\n",
       "      <td>30</td>\n",
       "    </tr>\n",
       "    <tr>\n",
       "      <th>15</th>\n",
       "      <td>WI</td>\n",
       "      <td>29</td>\n",
       "    </tr>\n",
       "    <tr>\n",
       "      <th>16</th>\n",
       "      <td>MN</td>\n",
       "      <td>28</td>\n",
       "    </tr>\n",
       "    <tr>\n",
       "      <th>17</th>\n",
       "      <td>MS</td>\n",
       "      <td>23</td>\n",
       "    </tr>\n",
       "    <tr>\n",
       "      <th>18</th>\n",
       "      <td>IA</td>\n",
       "      <td>21</td>\n",
       "    </tr>\n",
       "    <tr>\n",
       "      <th>19</th>\n",
       "      <td>KY</td>\n",
       "      <td>17</td>\n",
       "    </tr>\n",
       "    <tr>\n",
       "      <th>20</th>\n",
       "      <td>WA</td>\n",
       "      <td>16</td>\n",
       "    </tr>\n",
       "    <tr>\n",
       "      <th>21</th>\n",
       "      <td>CT</td>\n",
       "      <td>14</td>\n",
       "    </tr>\n",
       "    <tr>\n",
       "      <th>22</th>\n",
       "      <td>IN</td>\n",
       "      <td>13</td>\n",
       "    </tr>\n",
       "    <tr>\n",
       "      <th>23</th>\n",
       "      <td>MT</td>\n",
       "      <td>9</td>\n",
       "    </tr>\n",
       "    <tr>\n",
       "      <th>24</th>\n",
       "      <td>AR</td>\n",
       "      <td>5</td>\n",
       "    </tr>\n",
       "    <tr>\n",
       "      <th>25</th>\n",
       "      <td>AL</td>\n",
       "      <td>5</td>\n",
       "    </tr>\n",
       "  </tbody>\n",
       "</table>\n",
       "</div>"
      ],
      "text/plain": [
       "   CUST_STATE  Count\n",
       "0          NY     96\n",
       "1          GA     73\n",
       "2          PA     72\n",
       "3          FL     64\n",
       "4          IL     58\n",
       "5          NJ     53\n",
       "6          MD     50\n",
       "7          CA     46\n",
       "8          OH     44\n",
       "9          MI     44\n",
       "10         VA     39\n",
       "11         NC     37\n",
       "12         TX     33\n",
       "13         MA     33\n",
       "14         SC     30\n",
       "15         WI     29\n",
       "16         MN     28\n",
       "17         MS     23\n",
       "18         IA     21\n",
       "19         KY     17\n",
       "20         WA     16\n",
       "21         CT     14\n",
       "22         IN     13\n",
       "23         MT      9\n",
       "24         AR      5\n",
       "25         AL      5"
      ]
     },
     "execution_count": 13,
     "metadata": {},
     "output_type": "execute_result"
    }
   ],
   "source": [
    "df_table_customercount_pd=data_table_customercount.toPandas()\n",
    "df_table_customercount_pd"
   ]
  },
  {
   "cell_type": "code",
   "execution_count": 40,
   "metadata": {},
   "outputs": [
    {
     "data": {
      "image/png": "[encoded data removed]",
      "text/plain": [
       "<Figure size 1000x600 with 1 Axes>"
      ]
     },
     "metadata": {},
     "output_type": "display_data"
    }
   ],
   "source": [
    "#colors=['green','y','y','y','y','y','y']\n",
    "highlight_colour = '#d95f02'\n",
    "non_highlight_colour = '#768493'\n",
    "\n",
    "df_table_customercount_pd['colours'] = df_table_customercount_pd['Count'].apply(lambda x: highlight_colour if x == df_table_customercount_pd['Count'][0] else non_highlight_colour)\n",
    "ax=df_table_customercount_pd.plot.bar(x='CUST_STATE',y='Count',color=df_table_customercount_pd['colours'] ,width=.9,figsize=(10,6))\n",
    "plt.title(\"Statewise Customer Count\")\n",
    "plt.xlabel(\"State\")\n",
    "plt.ylabel=(\"Customer Count\")\n",
    "ax.get_legend().remove()\n",
    "ax.bar_label(ax.containers[0],label_type='edge')\n",
    "plt.show()"
   ]
  },
  {
   "attachments": {},
   "cell_type": "markdown",
   "metadata": {},
   "source": [
    "Functional\n",
    "Requirements 3.3\n",
    "Find and plot the sum of all transactions for the top 10 customers,\n",
    "and which customer has the highest transaction amount.\n",
    "Hint (use CUST_SSN)."
   ]
  },
  {
   "attachments": {},
   "cell_type": "markdown",
   "metadata": {},
   "source": [
    "query to join customers table and transaction table and groups the data by  customer ssn,firstname and lastname \\\n",
    "Then sorts the data descing order and reteives the first 10 rows to get the top 10 customers."
   ]
  },
  {
   "cell_type": "code",
   "execution_count": 8,
   "metadata": {},
   "outputs": [
    {
     "name": "stdout",
     "output_type": "stream",
     "text": [
      "+----------+----------+---------+------------------+\n",
      "|First_Name| LAST_NAME| CUST_SSN|             Total|\n",
      "+----------+----------+---------+------------------+\n",
      "|        Ty|      Daly|123451125|5633.0700000000015|\n",
      "|    Jessie|   Boucher|123452783| 5548.140000000001|\n",
      "|    Phoebe|    Martin|123453486| 5476.079999999999|\n",
      "|   Thurman|      Vera|123458668| 5314.970000000003|\n",
      "|      Bret|   Perkins|123456678| 5261.030000000001|\n",
      "|    Joesph|   Mcclain|123452026|           5241.18|\n",
      "|   Aurelia|      Haas|123452518| 5223.959999999999|\n",
      "|   Marcelo|   Emerson|123454933| 5203.080000000001|\n",
      "|    Alexis|Villarreal|123457547|           5149.75|\n",
      "| Christina|      Snow|123452085| 5133.290000000002|\n",
      "+----------+----------+---------+------------------+\n",
      "\n"
     ]
    }
   ],
   "source": [
    "\n",
    "query='(select cust.First_Name ,cust.LAST_NAME ,CUST_SSN,sum(TRANSACTION_VALUE) AS Total from cdw_sapp_credit_card cr join cdw_sapp_customer cust \\\n",
    "on cr.CUST_SSN=cust.SSN group by CUST_SSN,1,2 order by 4 desc limit 10) as TOPCUSTOMER'\n",
    "data_table_topcustomer=spark.read.format(\"jdbc\") \\\n",
    "  .option(\"url\", \"jdbc:mysql://localhost:3306/creditcard_capstone\") \\\n",
    "  .option(\"dbtable\",query ) \\\n",
    "  .option(\"user\", \"root\") \\\n",
    "  .option(\"password\", \"password\")\\\n",
    "   .load()\n",
    "data_table_topcustomer.show()"
   ]
  },
  {
   "attachments": {},
   "cell_type": "markdown",
   "metadata": {},
   "source": [
    "Converts the spark dataframe to pandas dataframe and joins first name and last name to get the fullname"
   ]
  },
  {
   "cell_type": "code",
   "execution_count": 9,
   "metadata": {},
   "outputs": [
    {
     "data": {
      "text/html": [
       "<div>\n",
       "<style scoped>\n",
       "    .dataframe tbody tr th:only-of-type {\n",
       "        vertical-align: middle;\n",
       "    }\n",
       "\n",
       "    .dataframe tbody tr th {\n",
       "        vertical-align: top;\n",
       "    }\n",
       "\n",
       "    .dataframe thead th {\n",
       "        text-align: right;\n",
       "    }\n",
       "</style>\n",
       "<table border=\"1\" class=\"dataframe\">\n",
       "  <thead>\n",
       "    <tr style=\"text-align: right;\">\n",
       "      <th></th>\n",
       "      <th>CUST_SSN</th>\n",
       "      <th>Total</th>\n",
       "      <th>Full Name</th>\n",
       "    </tr>\n",
       "  </thead>\n",
       "  <tbody>\n",
       "    <tr>\n",
       "      <th>0</th>\n",
       "      <td>123451125</td>\n",
       "      <td>5633.07</td>\n",
       "      <td>Ty Daly</td>\n",
       "    </tr>\n",
       "    <tr>\n",
       "      <th>1</th>\n",
       "      <td>123452783</td>\n",
       "      <td>5548.14</td>\n",
       "      <td>Jessie Boucher</td>\n",
       "    </tr>\n",
       "    <tr>\n",
       "      <th>2</th>\n",
       "      <td>123453486</td>\n",
       "      <td>5476.08</td>\n",
       "      <td>Phoebe Martin</td>\n",
       "    </tr>\n",
       "    <tr>\n",
       "      <th>3</th>\n",
       "      <td>123458668</td>\n",
       "      <td>5314.97</td>\n",
       "      <td>Thurman Vera</td>\n",
       "    </tr>\n",
       "    <tr>\n",
       "      <th>4</th>\n",
       "      <td>123456678</td>\n",
       "      <td>5261.03</td>\n",
       "      <td>Bret Perkins</td>\n",
       "    </tr>\n",
       "    <tr>\n",
       "      <th>5</th>\n",
       "      <td>123452026</td>\n",
       "      <td>5241.18</td>\n",
       "      <td>Joesph Mcclain</td>\n",
       "    </tr>\n",
       "    <tr>\n",
       "      <th>6</th>\n",
       "      <td>123452518</td>\n",
       "      <td>5223.96</td>\n",
       "      <td>Aurelia Haas</td>\n",
       "    </tr>\n",
       "    <tr>\n",
       "      <th>7</th>\n",
       "      <td>123454933</td>\n",
       "      <td>5203.08</td>\n",
       "      <td>Marcelo Emerson</td>\n",
       "    </tr>\n",
       "    <tr>\n",
       "      <th>8</th>\n",
       "      <td>123457547</td>\n",
       "      <td>5149.75</td>\n",
       "      <td>Alexis Villarreal</td>\n",
       "    </tr>\n",
       "    <tr>\n",
       "      <th>9</th>\n",
       "      <td>123452085</td>\n",
       "      <td>5133.29</td>\n",
       "      <td>Christina Snow</td>\n",
       "    </tr>\n",
       "  </tbody>\n",
       "</table>\n",
       "</div>"
      ],
      "text/plain": [
       "    CUST_SSN    Total          Full Name\n",
       "0  123451125  5633.07            Ty Daly\n",
       "1  123452783  5548.14     Jessie Boucher\n",
       "2  123453486  5476.08      Phoebe Martin\n",
       "3  123458668  5314.97       Thurman Vera\n",
       "4  123456678  5261.03       Bret Perkins\n",
       "5  123452026  5241.18     Joesph Mcclain\n",
       "6  123452518  5223.96       Aurelia Haas\n",
       "7  123454933  5203.08    Marcelo Emerson\n",
       "8  123457547  5149.75  Alexis Villarreal\n",
       "9  123452085  5133.29     Christina Snow"
      ]
     },
     "execution_count": 9,
     "metadata": {},
     "output_type": "execute_result"
    }
   ],
   "source": [
    "df_table_topcustomer_pd=data_table_topcustomer.toPandas()\n",
    "df_table_topcustomer_pd['Full Name']=df_table_topcustomer_pd['First_Name']+\" \"+df_table_topcustomer_pd['LAST_NAME']\n",
    "df_table_topcustomer_pd.drop(['First_Name','LAST_NAME'],axis=1)"
   ]
  },
  {
   "cell_type": "code",
   "execution_count": 42,
   "metadata": {},
   "outputs": [
    {
     "data": {
      "image/png": "[encoded data removed]",
      "text/plain": [
       "<Figure size 1000x600 with 1 Axes>"
      ]
     },
     "metadata": {},
     "output_type": "display_data"
    }
   ],
   "source": [
    "\n",
    "#colors=['green','y','y','y','y','y','y']\n",
    "highlight_colour = '#d95f02'\n",
    "non_highlight_colour = '#768493'\n",
    "\n",
    "df_table_topcustomer_pd['colours'] = df_table_topcustomer_pd['Total'].apply(lambda x: highlight_colour if x == df_table_topcustomer_pd['Total'][0] else non_highlight_colour)\n",
    "ax=df_table_topcustomer_pd.plot.bar(x='Full Name',y='Total',color=df_table_topcustomer_pd['colours'] ,figsize=(10,6))\n",
    "plt.title(\"Top 10 Customers\")\n",
    "plt.xlabel(\"Customer Name\")\n",
    "plt.ylabel=(\"Total\")\n",
    "ax.bar_label(ax.containers[0],label_type='edge')\n",
    "ax.get_legend().remove()\n",
    "plt.show()"
   ]
  }
 ],
 "metadata": {
  "kernelspec": {
   "display_name": "Python 3",
   "language": "python",
   "name": "python3"
  },
  "language_info": {
   "codemirror_mode": {
    "name": "ipython",
    "version": 3
   },
   "file_extension": ".py",
   "mimetype": "text/x-python",
   "name": "python",
   "nbconvert_exporter": "python",
   "pygments_lexer": "ipython3",
   "version": "3.10.10"
  },
  "orig_nbformat": 4
 },
 "nbformat": 4,
 "nbformat_minor": 2
}
